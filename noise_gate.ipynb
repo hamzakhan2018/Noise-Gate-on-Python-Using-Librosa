{
 "cells": [
  {
   "cell_type": "code",
   "execution_count": 2,
   "metadata": {},
   "outputs": [
    {
     "ename": "TypeError",
     "evalue": "rms() takes 0 positional arguments but 1 positional argument (and 2 keyword-only arguments) were given",
     "output_type": "error",
     "traceback": [
      "\u001b[1;31m---------------------------------------------------------------------------\u001b[0m",
      "\u001b[1;31mTypeError\u001b[0m                                 Traceback (most recent call last)",
      "Cell \u001b[1;32mIn[2], line 36\u001b[0m\n\u001b[0;32m     33\u001b[0m audio_path \u001b[39m=\u001b[39m \u001b[39m'\u001b[39m\u001b[39mD:/audio_features/assets/cat_109.wav\u001b[39m\u001b[39m'\u001b[39m\n\u001b[0;32m     34\u001b[0m threshold \u001b[39m=\u001b[39m \u001b[39m0.1\u001b[39m  \u001b[39m# Adjust this threshold according to your audio\u001b[39;00m\n\u001b[1;32m---> 36\u001b[0m filtered_audio \u001b[39m=\u001b[39m apply_noise_gate(audio_path, threshold)\n",
      "Cell \u001b[1;32mIn[2], line 15\u001b[0m, in \u001b[0;36mapply_noise_gate\u001b[1;34m(audio_path, threshold)\u001b[0m\n\u001b[0;32m     12\u001b[0m mag_spec \u001b[39m=\u001b[39m np\u001b[39m.\u001b[39mabs(stft)\n\u001b[0;32m     14\u001b[0m \u001b[39m# Compute the frame-wise energy\u001b[39;00m\n\u001b[1;32m---> 15\u001b[0m frame_energy \u001b[39m=\u001b[39m librosa\u001b[39m.\u001b[39;49mfeature\u001b[39m.\u001b[39;49mrms(audio, frame_length\u001b[39m=\u001b[39;49m\u001b[39mlen\u001b[39;49m(audio), hop_length\u001b[39m=\u001b[39;49m\u001b[39m1\u001b[39;49m)\n\u001b[0;32m     17\u001b[0m \u001b[39m# Apply the noise gate to identify frames with noise\u001b[39;00m\n\u001b[0;32m     18\u001b[0m noisy_frames \u001b[39m=\u001b[39m np\u001b[39m.\u001b[39mwhere(frame_energy \u001b[39m>\u001b[39m threshold)\n",
      "\u001b[1;31mTypeError\u001b[0m: rms() takes 0 positional arguments but 1 positional argument (and 2 keyword-only arguments) were given"
     ]
    }
   ],
   "source": [
    "import librosa\n",
    "import numpy as np\n",
    "\n",
    "def apply_noise_gate(audio_path, threshold):\n",
    "    # Load the audio file\n",
    "    audio, sr = librosa.load(audio_path, sr=None)\n",
    "\n",
    "    # Compute the short-time Fourier transform (STFT)\n",
    "    stft = librosa.stft(audio)\n",
    "\n",
    "    # Calculate the magnitude spectrogram\n",
    "    mag_spec = np.abs(stft)\n",
    "\n",
    "    # Compute the frame-wise energy\n",
    "    frame_energy = librosa.feature.rms(audio, frame_length=len(audio), hop_length=1)\n",
    "\n",
    "    # Apply the noise gate to identify frames with noise\n",
    "    noisy_frames = np.where(frame_energy > threshold)\n",
    "\n",
    "    # Create a binary mask to separate noise from the audio\n",
    "    mask = np.zeros_like(mag_spec)\n",
    "    mask[:, noisy_frames] = 1\n",
    "\n",
    "    # Apply the mask to the magnitude spectrogram\n",
    "    mag_spec_filtered = mag_spec * mask\n",
    "\n",
    "    # Reconstruct the filtered audio using the inverse STFT\n",
    "    filtered_audio = librosa.istft(mag_spec_filtered)\n",
    "\n",
    "    return filtered_audio\n",
    "\n",
    "# Example usage\n",
    "audio_path = 'D:/audio_features/assets/cat_109.wav'\n",
    "threshold = 0.1  # Adjust this threshold according to your audio\n",
    "\n",
    "filtered_audio = apply_noise_gate(audio_path, threshold)\n",
    "\n",
    "\n"
   ]
  }
 ],
 "metadata": {
  "kernelspec": {
   "display_name": "extract_audio",
   "language": "python",
   "name": "python3"
  },
  "language_info": {
   "codemirror_mode": {
    "name": "ipython",
    "version": 3
   },
   "file_extension": ".py",
   "mimetype": "text/x-python",
   "name": "python",
   "nbconvert_exporter": "python",
   "pygments_lexer": "ipython3",
   "version": "3.9.16"
  },
  "orig_nbformat": 4
 },
 "nbformat": 4,
 "nbformat_minor": 2
}
